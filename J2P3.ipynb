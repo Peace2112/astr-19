{
 "cells": [
  {
   "cell_type": "code",
   "execution_count": null,
   "id": "9ed05fad-d220-4d61-9a61-bc715e7d46c8",
   "metadata": {},
   "outputs": [],
   "source": [
    "import numpy as np\n",
    "import matplotlib.pyplot as plt"
   ]
  },
  {
   "cell_type": "code",
   "execution_count": null,
   "id": "511ab563-cf09-4d7f-81f6-f5f12c6220d1",
   "metadata": {},
   "outputs": [],
   "source": [
    "x = np.linspace(0, 1, 100)\n",
    "\n",
    "def exp_x(x):\n",
    "    return np.exp(x)\n",
    "    "
   ]
  },
  {
   "cell_type": "code",
   "execution_count": null,
   "id": "2c538a67-327d-4a2b-820d-eb0f2dc15c09",
   "metadata": {},
   "outputs": [],
   "source": [
    "y = exp_x(x)\n",
    "\n",
    "\n",
    "plt.plot(x, y)\n",
    "plt.title('Exponential Function: y = exp(x)')\n",
    "plt.xlabel('Time [milliseconds]')\n",
    "plt.ylabel('Awesomeness')\n",
    "\n",
    "plt.savefig('exponential_plot.pdf')\n",
    "\n",
    "plt.show()\n"
   ]
  }
 ],
 "metadata": {
  "kernelspec": {
   "display_name": "Python 3 (ipykernel)",
   "language": "python",
   "name": "python3"
  },
  "language_info": {
   "codemirror_mode": {
    "name": "ipython",
    "version": 3
   },
   "file_extension": ".py",
   "mimetype": "text/x-python",
   "name": "python",
   "nbconvert_exporter": "python",
   "pygments_lexer": "ipython3",
   "version": "3.9.6"
  }
 },
 "nbformat": 4,
 "nbformat_minor": 5
}
