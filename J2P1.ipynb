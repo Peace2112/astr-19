{
 "cells": [
  {
   "cell_type": "code",
   "execution_count": null,
   "id": "94cf3006-9b0e-4557-b26d-3ca61f0e1d33",
   "metadata": {},
   "outputs": [],
   "source": [
    "import numpy as np\n",
    "import matplotlib.pyplot as plt "
   ]
  },
  {
   "cell_type": "code",
   "execution_count": null,
   "id": "4dac807b-586a-4ae4-b563-c949202bf0d5",
   "metadata": {},
   "outputs": [],
   "source": [
    "# Create an array x ranging from [0, 1] in 100 steps\n",
    "x = np.linspace(0, 1, 100)\n",
    "\n",
    "# Define functions for sin(x) and cos(x)\n",
    "def sin_x(x): \n",
    "    return np.sin(x)\n",
    "\n",
    "def cos_x(x):\n",
    "    return np.cos(x)"
   ]
  },
  {
   "cell_type": "code",
   "execution_count": null,
   "id": "0435b58e-ebc7-427e-af96-b4abaa9a2e6c",
   "metadata": {},
   "outputs": [],
   "source": [
    "# Create a multipanel plot (1 row, 2 columns)\n",
    "plt.figure(figsize=(12, 4))  # Adjust the figure size as needed\n",
    "\n",
    "# Left panel: sin(x) vs. x\n",
    "plt.subplot(1, 2, 1)\n",
    "plt.plot(x, sin_x(x))\n",
    "plt.title('sin(x)')\n",
    "plt.xlabel('x')\n",
    "plt.ylabel('sin(x)')\n",
    "\n",
    "# Right panel: cos(x) vs. x\n",
    "plt.subplot(1, 2, 2)\n",
    "plt.plot(x, cos_x(x))\n",
    "plt.title('cos(x)')\n",
    "plt.xlabel('x')\n",
    "plt.ylabel('cos(x')\n",
    "\n",
    "# Adjust layout and save the figure as a PDF\n",
    "plt.tight_layout()\n",
    "plt.savefig('sin_cos_plot.pdf')\n",
    "\n",
    "# Display the plot\n",
    "plt.show()"
   ]
  }
 ],
 "metadata": {
  "kernelspec": {
   "display_name": "Python 3 (ipykernel)",
   "language": "python",
   "name": "python3"
  },
  "language_info": {
   "codemirror_mode": {
    "name": "ipython",
    "version": 3
   },
   "file_extension": ".py",
   "mimetype": "text/x-python",
   "name": "python",
   "nbconvert_exporter": "python",
   "pygments_lexer": "ipython3",
   "version": "3.9.6"
  }
 },
 "nbformat": 4,
 "nbformat_minor": 5
}
